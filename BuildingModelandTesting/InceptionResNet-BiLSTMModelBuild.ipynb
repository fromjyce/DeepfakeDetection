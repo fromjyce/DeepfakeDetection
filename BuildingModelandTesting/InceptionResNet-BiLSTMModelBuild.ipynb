{
  "cells": [
    {
      "cell_type": "code",
      "execution_count": null,
      "metadata": {
        "colab": {
          "base_uri": "https://localhost:8080/"
        },
        "id": "_4Ys2Azu3xUg",
        "outputId": "59d2b96a-a755-43e3-a927-472daa7d0d0c"
      },
      "outputs": [],
      "source": [
        "from google.colab import drive\n",
        "drive.mount('/content/drive')"
      ]
    },
    {
      "cell_type": "code",
      "execution_count": null,
      "metadata": {
        "id": "OUHAMryx6La6"
      },
      "outputs": [],
      "source": [
        "epochs = 10\n",
        "batch_size = 32\n",
        "learning_rate = 1e-4"
      ]
    },
    {
      "cell_type": "code",
      "execution_count": null,
      "metadata": {
        "colab": {
          "base_uri": "https://localhost:8080/",
          "height": 390
        },
        "id": "L4OoL__jQZyV",
        "outputId": "8f6c82c9-ac58-4ac5-fbbd-d6ea49b2b43c"
      },
      "outputs": [],
      "source": [
        "import tensorflow as tf\n",
        "from tensorflow.keras.applications import InceptionResNetV2\n",
        "from tensorflow.keras.layers import Bidirectional, LSTM, Dense, Dropout, Flatten, TimeDistributed\n",
        "from tensorflow.keras.models import Model\n",
        "from tensorflow.keras.utils import to_categorical\n",
        "from sklearn.preprocessing import LabelEncoder\n",
        "\n",
        "\n",
        "\n",
        "def build_model(num_classes):\n",
        "    base_model = InceptionResNetV2(include_top=False, input_shape=(300, 300, 3), weights='imagenet')\n",
        "\n",
        "    for layer in base_model.layers:\n",
        "        layer.trainable = False\n",
        "\n",
        "    x = base_model.output\n",
        "    x = TimeDistributed(Dense(128))(x)\n",
        "    x = TimeDistributed(Dropout(0.5))(x)\n",
        "    x = TimeDistributed(Flatten())(x)\n",
        "\n",
        "    lstm_1 = LSTM(128, return_sequences=True, dropout=0.2, recurrent_dropout=0.2)\n",
        "    lstm_2 = LSTM(64, return_sequences=True, dropout=0.2, recurrent_dropout=0.2)\n",
        "    x = Bidirectional(lstm_1)(x)\n",
        "    x = Bidirectional(lstm_2)(x)\n",
        "\n",
        "    x = TimeDistributed(Dense(64, activation='relu'))(x)\n",
        "    x = TimeDistributed(Dropout(0.5))(x)\n",
        "    x = TimeDistributed(Flatten())(x)\n",
        "\n",
        "    predictions = Dense(num_classes, activation='softmax')(x)\n",
        "    model = Model(inputs=base_model.input, outputs=predictions)\n",
        "\n",
        "    return model\n",
        "\n"
      ]
    },
    {
      "cell_type": "code",
      "execution_count": null,
      "metadata": {},
      "outputs": [],
      "source": [
        "model = build_model(num_classes=2)\n"
      ]
    },
    {
      "cell_type": "code",
      "execution_count": null,
      "metadata": {},
      "outputs": [],
      "source": [
        "model.compile(optimizer=tf.keras.optimizers.Adam(learning_rate=learning_rate),\n",
        "              loss='categorical_crossentropy',\n",
        "              metrics=['accuracy'])\n",
        "\n",
        "\n",
        "\n"
      ]
    },
    {
      "cell_type": "code",
      "execution_count": null,
      "metadata": {},
      "outputs": [],
      "source": [
        "model.fit(X_train, y_train, epochs=epochs, batch_size=batch_size, validation_data=(X_test, y_test))"
      ]
    },
    {
      "cell_type": "code",
      "execution_count": null,
      "metadata": {},
      "outputs": [],
      "source": [
        "model.summary()"
      ]
    },
    {
      "cell_type": "code",
      "execution_count": null,
      "metadata": {
        "colab": {
          "base_uri": "https://localhost:8080/"
        },
        "id": "UOw10FH9450L",
        "outputId": "8fc6b6a0-b214-4f83-bb45-ad1453bffde5"
      },
      "outputs": [],
      "source": [
        "model.save('drive/My Drive/ColabDrive/deepfake-detection-challenge/train_colab_videos/my_model_one.h5')"
      ]
    }
  ],
  "metadata": {
    "accelerator": "GPU",
    "colab": {
      "provenance": []
    },
    "kernelspec": {
      "display_name": "Python 3",
      "name": "python3"
    },
    "language_info": {
      "name": "python"
    }
  },
  "nbformat": 4,
  "nbformat_minor": 0
}
